{
 "cells": [
  {
   "cell_type": "code",
   "execution_count": 10,
   "id": "be10ee64",
   "metadata": {},
   "outputs": [],
   "source": [
    "import numpy as np\n",
    "import pandas as pd\n",
    "import matplotlib.pyplot as plt\n",
    "import statsmodels.api as sm\n",
    "from numpy.polynomial.polynomial import polyfit"
   ]
  },
  {
   "cell_type": "code",
   "execution_count": 5,
   "id": "7d53fc89",
   "metadata": {},
   "outputs": [
    {
     "data": {
      "text/html": [
       "<div>\n",
       "<style scoped>\n",
       "    .dataframe tbody tr th:only-of-type {\n",
       "        vertical-align: middle;\n",
       "    }\n",
       "\n",
       "    .dataframe tbody tr th {\n",
       "        vertical-align: top;\n",
       "    }\n",
       "\n",
       "    .dataframe thead th {\n",
       "        text-align: right;\n",
       "    }\n",
       "</style>\n",
       "<table border=\"1\" class=\"dataframe\">\n",
       "  <thead>\n",
       "    <tr style=\"text-align: right;\">\n",
       "      <th></th>\n",
       "      <th>Delivery Time</th>\n",
       "      <th>Sorting Time</th>\n",
       "    </tr>\n",
       "  </thead>\n",
       "  <tbody>\n",
       "    <tr>\n",
       "      <th>0</th>\n",
       "      <td>21.00</td>\n",
       "      <td>10</td>\n",
       "    </tr>\n",
       "    <tr>\n",
       "      <th>1</th>\n",
       "      <td>13.50</td>\n",
       "      <td>4</td>\n",
       "    </tr>\n",
       "    <tr>\n",
       "      <th>2</th>\n",
       "      <td>19.75</td>\n",
       "      <td>6</td>\n",
       "    </tr>\n",
       "    <tr>\n",
       "      <th>3</th>\n",
       "      <td>24.00</td>\n",
       "      <td>9</td>\n",
       "    </tr>\n",
       "    <tr>\n",
       "      <th>4</th>\n",
       "      <td>29.00</td>\n",
       "      <td>10</td>\n",
       "    </tr>\n",
       "  </tbody>\n",
       "</table>\n",
       "</div>"
      ],
      "text/plain": [
       "   Delivery Time  Sorting Time\n",
       "0          21.00            10\n",
       "1          13.50             4\n",
       "2          19.75             6\n",
       "3          24.00             9\n",
       "4          29.00            10"
      ]
     },
     "execution_count": 5,
     "metadata": {},
     "output_type": "execute_result"
    }
   ],
   "source": [
    "roshu=pd.read_csv(\"D:\\DS DATA\\delivery_time.csv\")\n",
    "roshu.head()"
   ]
  },
  {
   "cell_type": "markdown",
   "id": "9ba47131",
   "metadata": {},
   "source": [
    "Ploting of Data\n"
   ]
  },
  {
   "cell_type": "code",
   "execution_count": 12,
   "id": "d15701da",
   "metadata": {},
   "outputs": [],
   "source": [
    "x=roshu['Delivery Time']\n",
    "y=roshu['Sorting Time']"
   ]
  },
  {
   "cell_type": "code",
   "execution_count": 13,
   "id": "c246a55f",
   "metadata": {},
   "outputs": [
    {
     "data": {
      "image/png": "[encoded data removed]",
      "text/plain": [
       "<Figure size 600x400 with 1 Axes>"
      ]
     },
     "metadata": {},
     "output_type": "display_data"
    }
   ],
   "source": [
    "plt.figure(figsize=(6,4))\n",
    "b, m = polyfit(x, y, 1)\n",
    "plt.plot(x, y, '.')\n",
    "plt.plot(x, b + m * x, '-')\n",
    "plt.scatter(x,y)\n",
    "plt.xlabel(\"Sorting Time\")\n",
    "plt.ylabel(\"Delivery Time\")\n",
    "plt.show()"
   ]
  },
  {
   "cell_type": "markdown",
   "id": "03a516e3",
   "metadata": {},
   "source": [
    "As displayed in the scatter plot, the data does contains some outliers, but there is potive correlation between delivery time and sorting \n",
    "Time"
   ]
  },
  {
   "cell_type": "markdown",
   "id": "38e3868e",
   "metadata": {},
   "source": [
    "Correlation Analysis"
   ]
  },
  {
   "cell_type": "code",
   "execution_count": 14,
   "id": "48e8a641",
   "metadata": {},
   "outputs": [
    {
     "data": {
      "text/plain": [
       "array([[1.        , 0.82599726],\n",
       "       [0.82599726, 1.        ]])"
      ]
     },
     "execution_count": 14,
     "metadata": {},
     "output_type": "execute_result"
    }
   ],
   "source": [
    "c = np.corrcoef(x, y)\n",
    "c"
   ]
  },
  {
   "cell_type": "markdown",
   "id": "df09a015",
   "metadata": {},
   "source": [
    "correlation between delivery time and sorting Time is high (82%)"
   ]
  },
  {
   "cell_type": "markdown",
   "id": "6d958758",
   "metadata": {},
   "source": [
    "Regression Model\n",
    "No transformation"
   ]
  },
  {
   "cell_type": "code",
   "execution_count": 15,
   "id": "fd97dd26",
   "metadata": {},
   "outputs": [],
   "source": [
    "model = sm.OLS(y, x).fit()\n",
    "predictions = model.predict(x)"
   ]
  },
  {
   "cell_type": "code",
   "execution_count": 16,
   "id": "440f4803",
   "metadata": {},
   "outputs": [
    {
     "data": {
      "text/html": [
       "<table class=\"simpletable\">\n",
       "<caption>OLS Regression Results</caption>\n",
       "<tr>\n",
       "  <th>Dep. Variable:</th>      <td>Sorting Time</td>   <th>  R-squared (uncentered):</th>      <td>   0.955</td>\n",
       "</tr>\n",
       "<tr>\n",
       "  <th>Model:</th>                   <td>OLS</td>       <th>  Adj. R-squared (uncentered):</th> <td>   0.953</td>\n",
       "</tr>\n",
       "<tr>\n",
       "  <th>Method:</th>             <td>Least Squares</td>  <th>  F-statistic:       </th>          <td>   424.5</td>\n",
       "</tr>\n",
       "<tr>\n",
       "  <th>Date:</th>             <td>Wed, 05 Jul 2023</td> <th>  Prob (F-statistic):</th>          <td>6.12e-15</td>\n",
       "</tr>\n",
       "<tr>\n",
       "  <th>Time:</th>                 <td>13:22:07</td>     <th>  Log-Likelihood:    </th>          <td> -37.082</td>\n",
       "</tr>\n",
       "<tr>\n",
       "  <th>No. Observations:</th>      <td>    21</td>      <th>  AIC:               </th>          <td>   76.16</td>\n",
       "</tr>\n",
       "<tr>\n",
       "  <th>Df Residuals:</th>          <td>    20</td>      <th>  BIC:               </th>          <td>   77.21</td>\n",
       "</tr>\n",
       "<tr>\n",
       "  <th>Df Model:</th>              <td>     1</td>      <th>                     </th>              <td> </td>   \n",
       "</tr>\n",
       "<tr>\n",
       "  <th>Covariance Type:</th>      <td>nonrobust</td>    <th>                     </th>              <td> </td>   \n",
       "</tr>\n",
       "</table>\n",
       "<table class=\"simpletable\">\n",
       "<tr>\n",
       "        <td></td>           <th>coef</th>     <th>std err</th>      <th>t</th>      <th>P>|t|</th>  <th>[0.025</th>    <th>0.975]</th>  \n",
       "</tr>\n",
       "<tr>\n",
       "  <th>Delivery Time</th> <td>    0.3723</td> <td>    0.018</td> <td>   20.603</td> <td> 0.000</td> <td>    0.335</td> <td>    0.410</td>\n",
       "</tr>\n",
       "</table>\n",
       "<table class=\"simpletable\">\n",
       "<tr>\n",
       "  <th>Omnibus:</th>       <td> 1.516</td> <th>  Durbin-Watson:     </th> <td>   1.418</td>\n",
       "</tr>\n",
       "<tr>\n",
       "  <th>Prob(Omnibus):</th> <td> 0.469</td> <th>  Jarque-Bera (JB):  </th> <td>   0.597</td>\n",
       "</tr>\n",
       "<tr>\n",
       "  <th>Skew:</th>          <td> 0.399</td> <th>  Prob(JB):          </th> <td>   0.742</td>\n",
       "</tr>\n",
       "<tr>\n",
       "  <th>Kurtosis:</th>      <td> 3.217</td> <th>  Cond. No.          </th> <td>    1.00</td>\n",
       "</tr>\n",
       "</table><br/><br/>Notes:<br/>[1] R² is computed without centering (uncentered) since the model does not contain a constant.<br/>[2] Standard Errors assume that the covariance matrix of the errors is correctly specified."
      ],
      "text/plain": [
       "<class 'statsmodels.iolib.summary.Summary'>\n",
       "\"\"\"\n",
       "                                 OLS Regression Results                                \n",
       "=======================================================================================\n",
       "Dep. Variable:           Sorting Time   R-squared (uncentered):                   0.955\n",
       "Model:                            OLS   Adj. R-squared (uncentered):              0.953\n",
       "Method:                 Least Squares   F-statistic:                              424.5\n",
       "Date:                Wed, 05 Jul 2023   Prob (F-statistic):                    6.12e-15\n",
       "Time:                        13:22:07   Log-Likelihood:                         -37.082\n",
       "No. Observations:                  21   AIC:                                      76.16\n",
       "Df Residuals:                      20   BIC:                                      77.21\n",
       "Df Model:                           1                                                  \n",
       "Covariance Type:            nonrobust                                                  \n",
       "=================================================================================\n",
       "                    coef    std err          t      P>|t|      [0.025      0.975]\n",
       "---------------------------------------------------------------------------------\n",
       "Delivery Time     0.3723      0.018     20.603      0.000       0.335       0.410\n",
       "==============================================================================\n",
       "Omnibus:                        1.516   Durbin-Watson:                   1.418\n",
       "Prob(Omnibus):                  0.469   Jarque-Bera (JB):                0.597\n",
       "Skew:                           0.399   Prob(JB):                        0.742\n",
       "Kurtosis:                       3.217   Cond. No.                         1.00\n",
       "==============================================================================\n",
       "\n",
       "Notes:\n",
       "[1] R² is computed without centering (uncentered) since the model does not contain a constant.\n",
       "[2] Standard Errors assume that the covariance matrix of the errors is correctly specified.\n",
       "\"\"\""
      ]
     },
     "execution_count": 16,
     "metadata": {},
     "output_type": "execute_result"
    }
   ],
   "source": [
    "model.summary()"
   ]
  },
  {
   "cell_type": "markdown",
   "id": "59048ad1",
   "metadata": {},
   "source": [
    "Log Transformation of Y"
   ]
  },
  {
   "cell_type": "code",
   "execution_count": 18,
   "id": "0fa06c09",
   "metadata": {},
   "outputs": [],
   "source": [
    "y_log = np.log(roshu['Delivery Time'])"
   ]
  },
  {
   "cell_type": "code",
   "execution_count": 28,
   "id": "4d17a041",
   "metadata": {},
   "outputs": [],
   "source": [
    "model=sm.OLS(y_log,x).fit()\n",
    "prediction=model.predict(x)\n"
   ]
  },
  {
   "cell_type": "code",
   "execution_count": 29,
   "id": "55cc080b",
   "metadata": {},
   "outputs": [
    {
     "data": {
      "text/html": [
       "<table class=\"simpletable\">\n",
       "<caption>OLS Regression Results</caption>\n",
       "<tr>\n",
       "  <th>Dep. Variable:</th>      <td>Delivery Time</td>  <th>  R-squared (uncentered):</th>      <td>   0.968</td>\n",
       "</tr>\n",
       "<tr>\n",
       "  <th>Model:</th>                   <td>OLS</td>       <th>  Adj. R-squared (uncentered):</th> <td>   0.967</td>\n",
       "</tr>\n",
       "<tr>\n",
       "  <th>Method:</th>             <td>Least Squares</td>  <th>  F-statistic:       </th>          <td>   613.2</td>\n",
       "</tr>\n",
       "<tr>\n",
       "  <th>Date:</th>             <td>Wed, 05 Jul 2023</td> <th>  Prob (F-statistic):</th>          <td>1.77e-16</td>\n",
       "</tr>\n",
       "<tr>\n",
       "  <th>Time:</th>                 <td>13:43:27</td>     <th>  Log-Likelihood:    </th>          <td> -15.083</td>\n",
       "</tr>\n",
       "<tr>\n",
       "  <th>No. Observations:</th>      <td>    21</td>      <th>  AIC:               </th>          <td>   32.17</td>\n",
       "</tr>\n",
       "<tr>\n",
       "  <th>Df Residuals:</th>          <td>    20</td>      <th>  BIC:               </th>          <td>   33.21</td>\n",
       "</tr>\n",
       "<tr>\n",
       "  <th>Df Model:</th>              <td>     1</td>      <th>                     </th>              <td> </td>   \n",
       "</tr>\n",
       "<tr>\n",
       "  <th>Covariance Type:</th>      <td>nonrobust</td>    <th>                     </th>              <td> </td>   \n",
       "</tr>\n",
       "</table>\n",
       "<table class=\"simpletable\">\n",
       "<tr>\n",
       "        <td></td>           <th>coef</th>     <th>std err</th>      <th>t</th>      <th>P>|t|</th>  <th>[0.025</th>    <th>0.975]</th>  \n",
       "</tr>\n",
       "<tr>\n",
       "  <th>Delivery Time</th> <td>    0.1570</td> <td>    0.006</td> <td>   24.763</td> <td> 0.000</td> <td>    0.144</td> <td>    0.170</td>\n",
       "</tr>\n",
       "</table>\n",
       "<table class=\"simpletable\">\n",
       "<tr>\n",
       "  <th>Omnibus:</th>       <td> 4.866</td> <th>  Durbin-Watson:     </th> <td>   1.475</td>\n",
       "</tr>\n",
       "<tr>\n",
       "  <th>Prob(Omnibus):</th> <td> 0.088</td> <th>  Jarque-Bera (JB):  </th> <td>   2.811</td>\n",
       "</tr>\n",
       "<tr>\n",
       "  <th>Skew:</th>          <td>-0.821</td> <th>  Prob(JB):          </th> <td>   0.245</td>\n",
       "</tr>\n",
       "<tr>\n",
       "  <th>Kurtosis:</th>      <td> 3.720</td> <th>  Cond. No.          </th> <td>    1.00</td>\n",
       "</tr>\n",
       "</table><br/><br/>Notes:<br/>[1] R² is computed without centering (uncentered) since the model does not contain a constant.<br/>[2] Standard Errors assume that the covariance matrix of the errors is correctly specified."
      ],
      "text/plain": [
       "<class 'statsmodels.iolib.summary.Summary'>\n",
       "\"\"\"\n",
       "                                 OLS Regression Results                                \n",
       "=======================================================================================\n",
       "Dep. Variable:          Delivery Time   R-squared (uncentered):                   0.968\n",
       "Model:                            OLS   Adj. R-squared (uncentered):              0.967\n",
       "Method:                 Least Squares   F-statistic:                              613.2\n",
       "Date:                Wed, 05 Jul 2023   Prob (F-statistic):                    1.77e-16\n",
       "Time:                        13:43:27   Log-Likelihood:                         -15.083\n",
       "No. Observations:                  21   AIC:                                      32.17\n",
       "Df Residuals:                      20   BIC:                                      33.21\n",
       "Df Model:                           1                                                  \n",
       "Covariance Type:            nonrobust                                                  \n",
       "=================================================================================\n",
       "                    coef    std err          t      P>|t|      [0.025      0.975]\n",
       "---------------------------------------------------------------------------------\n",
       "Delivery Time     0.1570      0.006     24.763      0.000       0.144       0.170\n",
       "==============================================================================\n",
       "Omnibus:                        4.866   Durbin-Watson:                   1.475\n",
       "Prob(Omnibus):                  0.088   Jarque-Bera (JB):                2.811\n",
       "Skew:                          -0.821   Prob(JB):                        0.245\n",
       "Kurtosis:                       3.720   Cond. No.                         1.00\n",
       "==============================================================================\n",
       "\n",
       "Notes:\n",
       "[1] R² is computed without centering (uncentered) since the model does not contain a constant.\n",
       "[2] Standard Errors assume that the covariance matrix of the errors is correctly specified.\n",
       "\"\"\""
      ]
     },
     "execution_count": 29,
     "metadata": {},
     "output_type": "execute_result"
    }
   ],
   "source": [
    "model.summary()"
   ]
  },
  {
   "cell_type": "markdown",
   "id": "cda2228c",
   "metadata": {},
   "source": [
    "Log Transformation of X"
   ]
  },
  {
   "cell_type": "code",
   "execution_count": 23,
   "id": "466b916f",
   "metadata": {},
   "outputs": [],
   "source": [
    "x_log=np.log(roshu['Sorting Time'])"
   ]
  },
  {
   "cell_type": "code",
   "execution_count": 26,
   "id": "24756452",
   "metadata": {},
   "outputs": [],
   "source": [
    "model=sm.OLS(y,x_log).fit()\n",
    "prediction=model.predict(x_log)"
   ]
  },
  {
   "cell_type": "code",
   "execution_count": 27,
   "id": "dd9b1bb3",
   "metadata": {
    "scrolled": true
   },
   "outputs": [
    {
     "data": {
      "text/html": [
       "<table class=\"simpletable\">\n",
       "<caption>OLS Regression Results</caption>\n",
       "<tr>\n",
       "  <th>Dep. Variable:</th>      <td>Sorting Time</td>   <th>  R-squared (uncentered):</th>      <td>   0.981</td>\n",
       "</tr>\n",
       "<tr>\n",
       "  <th>Model:</th>                   <td>OLS</td>       <th>  Adj. R-squared (uncentered):</th> <td>   0.980</td>\n",
       "</tr>\n",
       "<tr>\n",
       "  <th>Method:</th>             <td>Least Squares</td>  <th>  F-statistic:       </th>          <td>   1018.</td>\n",
       "</tr>\n",
       "<tr>\n",
       "  <th>Date:</th>             <td>Wed, 05 Jul 2023</td> <th>  Prob (F-statistic):</th>          <td>1.25e-18</td>\n",
       "</tr>\n",
       "<tr>\n",
       "  <th>Time:</th>                 <td>13:41:05</td>     <th>  Log-Likelihood:    </th>          <td> -28.172</td>\n",
       "</tr>\n",
       "<tr>\n",
       "  <th>No. Observations:</th>      <td>    21</td>      <th>  AIC:               </th>          <td>   58.34</td>\n",
       "</tr>\n",
       "<tr>\n",
       "  <th>Df Residuals:</th>          <td>    20</td>      <th>  BIC:               </th>          <td>   59.39</td>\n",
       "</tr>\n",
       "<tr>\n",
       "  <th>Df Model:</th>              <td>     1</td>      <th>                     </th>              <td> </td>   \n",
       "</tr>\n",
       "<tr>\n",
       "  <th>Covariance Type:</th>      <td>nonrobust</td>    <th>                     </th>              <td> </td>   \n",
       "</tr>\n",
       "</table>\n",
       "<table class=\"simpletable\">\n",
       "<tr>\n",
       "        <td></td>          <th>coef</th>     <th>std err</th>      <th>t</th>      <th>P>|t|</th>  <th>[0.025</th>    <th>0.975]</th>  \n",
       "</tr>\n",
       "<tr>\n",
       "  <th>Sorting Time</th> <td>    3.6942</td> <td>    0.116</td> <td>   31.913</td> <td> 0.000</td> <td>    3.453</td> <td>    3.936</td>\n",
       "</tr>\n",
       "</table>\n",
       "<table class=\"simpletable\">\n",
       "<tr>\n",
       "  <th>Omnibus:</th>       <td> 3.197</td> <th>  Durbin-Watson:     </th> <td>   1.519</td>\n",
       "</tr>\n",
       "<tr>\n",
       "  <th>Prob(Omnibus):</th> <td> 0.202</td> <th>  Jarque-Bera (JB):  </th> <td>   2.616</td>\n",
       "</tr>\n",
       "<tr>\n",
       "  <th>Skew:</th>          <td> 0.776</td> <th>  Prob(JB):          </th> <td>   0.270</td>\n",
       "</tr>\n",
       "<tr>\n",
       "  <th>Kurtosis:</th>      <td> 2.236</td> <th>  Cond. No.          </th> <td>    1.00</td>\n",
       "</tr>\n",
       "</table><br/><br/>Notes:<br/>[1] R² is computed without centering (uncentered) since the model does not contain a constant.<br/>[2] Standard Errors assume that the covariance matrix of the errors is correctly specified."
      ],
      "text/plain": [
       "<class 'statsmodels.iolib.summary.Summary'>\n",
       "\"\"\"\n",
       "                                 OLS Regression Results                                \n",
       "=======================================================================================\n",
       "Dep. Variable:           Sorting Time   R-squared (uncentered):                   0.981\n",
       "Model:                            OLS   Adj. R-squared (uncentered):              0.980\n",
       "Method:                 Least Squares   F-statistic:                              1018.\n",
       "Date:                Wed, 05 Jul 2023   Prob (F-statistic):                    1.25e-18\n",
       "Time:                        13:41:05   Log-Likelihood:                         -28.172\n",
       "No. Observations:                  21   AIC:                                      58.34\n",
       "Df Residuals:                      20   BIC:                                      59.39\n",
       "Df Model:                           1                                                  \n",
       "Covariance Type:            nonrobust                                                  \n",
       "================================================================================\n",
       "                   coef    std err          t      P>|t|      [0.025      0.975]\n",
       "--------------------------------------------------------------------------------\n",
       "Sorting Time     3.6942      0.116     31.913      0.000       3.453       3.936\n",
       "==============================================================================\n",
       "Omnibus:                        3.197   Durbin-Watson:                   1.519\n",
       "Prob(Omnibus):                  0.202   Jarque-Bera (JB):                2.616\n",
       "Skew:                           0.776   Prob(JB):                        0.270\n",
       "Kurtosis:                       2.236   Cond. No.                         1.00\n",
       "==============================================================================\n",
       "\n",
       "Notes:\n",
       "[1] R² is computed without centering (uncentered) since the model does not contain a constant.\n",
       "[2] Standard Errors assume that the covariance matrix of the errors is correctly specified.\n",
       "\"\"\""
      ]
     },
     "execution_count": 27,
     "metadata": {},
     "output_type": "execute_result"
    }
   ],
   "source": [
    "model.summary()"
   ]
  },
  {
   "cell_type": "markdown",
   "id": "5ad18fb8",
   "metadata": {},
   "source": [
    "Log Transformation of X & Y"
   ]
  },
  {
   "cell_type": "code",
   "execution_count": 33,
   "id": "b631288a",
   "metadata": {},
   "outputs": [
    {
     "data": {
      "text/html": [
       "<table class=\"simpletable\">\n",
       "<caption>OLS Regression Results</caption>\n",
       "<tr>\n",
       "  <th>Dep. Variable:</th>      <td>Sorting Time</td>   <th>  R-squared (uncentered):</th>      <td>   0.972</td>\n",
       "</tr>\n",
       "<tr>\n",
       "  <th>Model:</th>                   <td>OLS</td>       <th>  Adj. R-squared (uncentered):</th> <td>   0.970</td>\n",
       "</tr>\n",
       "<tr>\n",
       "  <th>Method:</th>             <td>Least Squares</td>  <th>  F-statistic:       </th>          <td>   688.7</td>\n",
       "</tr>\n",
       "<tr>\n",
       "  <th>Date:</th>             <td>Wed, 05 Jul 2023</td> <th>  Prob (F-statistic):</th>          <td>5.72e-17</td>\n",
       "</tr>\n",
       "<tr>\n",
       "  <th>Time:</th>                 <td>13:51:42</td>     <th>  Log-Likelihood:    </th>          <td> -4.5371</td>\n",
       "</tr>\n",
       "<tr>\n",
       "  <th>No. Observations:</th>      <td>    21</td>      <th>  AIC:               </th>          <td>   11.07</td>\n",
       "</tr>\n",
       "<tr>\n",
       "  <th>Df Residuals:</th>          <td>    20</td>      <th>  BIC:               </th>          <td>   12.12</td>\n",
       "</tr>\n",
       "<tr>\n",
       "  <th>Df Model:</th>              <td>     1</td>      <th>                     </th>              <td> </td>   \n",
       "</tr>\n",
       "<tr>\n",
       "  <th>Covariance Type:</th>      <td>nonrobust</td>    <th>                     </th>              <td> </td>   \n",
       "</tr>\n",
       "</table>\n",
       "<table class=\"simpletable\">\n",
       "<tr>\n",
       "        <td></td>           <th>coef</th>     <th>std err</th>      <th>t</th>      <th>P>|t|</th>  <th>[0.025</th>    <th>0.975]</th>  \n",
       "</tr>\n",
       "<tr>\n",
       "  <th>Delivery Time</th> <td>    0.6312</td> <td>    0.024</td> <td>   26.244</td> <td> 0.000</td> <td>    0.581</td> <td>    0.681</td>\n",
       "</tr>\n",
       "</table>\n",
       "<table class=\"simpletable\">\n",
       "<tr>\n",
       "  <th>Omnibus:</th>       <td> 1.642</td> <th>  Durbin-Watson:     </th> <td>   1.832</td>\n",
       "</tr>\n",
       "<tr>\n",
       "  <th>Prob(Omnibus):</th> <td> 0.440</td> <th>  Jarque-Bera (JB):  </th> <td>   1.154</td>\n",
       "</tr>\n",
       "<tr>\n",
       "  <th>Skew:</th>          <td>-0.316</td> <th>  Prob(JB):          </th> <td>   0.562</td>\n",
       "</tr>\n",
       "<tr>\n",
       "  <th>Kurtosis:</th>      <td> 2.041</td> <th>  Cond. No.          </th> <td>    1.00</td>\n",
       "</tr>\n",
       "</table><br/><br/>Notes:<br/>[1] R² is computed without centering (uncentered) since the model does not contain a constant.<br/>[2] Standard Errors assume that the covariance matrix of the errors is correctly specified."
      ],
      "text/plain": [
       "<class 'statsmodels.iolib.summary.Summary'>\n",
       "\"\"\"\n",
       "                                 OLS Regression Results                                \n",
       "=======================================================================================\n",
       "Dep. Variable:           Sorting Time   R-squared (uncentered):                   0.972\n",
       "Model:                            OLS   Adj. R-squared (uncentered):              0.970\n",
       "Method:                 Least Squares   F-statistic:                              688.7\n",
       "Date:                Wed, 05 Jul 2023   Prob (F-statistic):                    5.72e-17\n",
       "Time:                        13:51:42   Log-Likelihood:                         -4.5371\n",
       "No. Observations:                  21   AIC:                                      11.07\n",
       "Df Residuals:                      20   BIC:                                      12.12\n",
       "Df Model:                           1                                                  \n",
       "Covariance Type:            nonrobust                                                  \n",
       "=================================================================================\n",
       "                    coef    std err          t      P>|t|      [0.025      0.975]\n",
       "---------------------------------------------------------------------------------\n",
       "Delivery Time     0.6312      0.024     26.244      0.000       0.581       0.681\n",
       "==============================================================================\n",
       "Omnibus:                        1.642   Durbin-Watson:                   1.832\n",
       "Prob(Omnibus):                  0.440   Jarque-Bera (JB):                1.154\n",
       "Skew:                          -0.316   Prob(JB):                        0.562\n",
       "Kurtosis:                       2.041   Cond. No.                         1.00\n",
       "==============================================================================\n",
       "\n",
       "Notes:\n",
       "[1] R² is computed without centering (uncentered) since the model does not contain a constant.\n",
       "[2] Standard Errors assume that the covariance matrix of the errors is correctly specified.\n",
       "\"\"\""
      ]
     },
     "execution_count": 33,
     "metadata": {},
     "output_type": "execute_result"
    }
   ],
   "source": [
    "model=sm.OLS(x_log,y_log).fit()\n",
    "prediction=model.predict(x_log)\n",
    "model.summary()"
   ]
  },
  {
   "cell_type": "markdown",
   "id": "64125a5c",
   "metadata": {},
   "source": [
    "Sq Root Transformation of X"
   ]
  },
  {
   "cell_type": "code",
   "execution_count": 34,
   "id": "7ad4aa0f",
   "metadata": {},
   "outputs": [],
   "source": [
    "x_sqrt=np.sqrt(roshu['Sorting Time'])"
   ]
  },
  {
   "cell_type": "code",
   "execution_count": 35,
   "id": "50c234b8",
   "metadata": {},
   "outputs": [],
   "source": [
    "model=sm.OLS(x_sqrt,y).fit()\n",
    "prediction=model.predict(x_sqrt)"
   ]
  },
  {
   "cell_type": "code",
   "execution_count": 36,
   "id": "ad542cd2",
   "metadata": {},
   "outputs": [
    {
     "data": {
      "text/html": [
       "<table class=\"simpletable\">\n",
       "<caption>OLS Regression Results</caption>\n",
       "<tr>\n",
       "  <th>Dep. Variable:</th>      <td>Sorting Time</td>   <th>  R-squared (uncentered):</th>      <td>   0.970</td>\n",
       "</tr>\n",
       "<tr>\n",
       "  <th>Model:</th>                   <td>OLS</td>       <th>  Adj. R-squared (uncentered):</th> <td>   0.969</td>\n",
       "</tr>\n",
       "<tr>\n",
       "  <th>Method:</th>             <td>Least Squares</td>  <th>  F-statistic:       </th>          <td>   656.6</td>\n",
       "</tr>\n",
       "<tr>\n",
       "  <th>Date:</th>             <td>Wed, 05 Jul 2023</td> <th>  Prob (F-statistic):</th>          <td>9.10e-17</td>\n",
       "</tr>\n",
       "<tr>\n",
       "  <th>Time:</th>                 <td>13:55:41</td>     <th>  Log-Likelihood:    </th>          <td> -11.966</td>\n",
       "</tr>\n",
       "<tr>\n",
       "  <th>No. Observations:</th>      <td>    21</td>      <th>  AIC:               </th>          <td>   25.93</td>\n",
       "</tr>\n",
       "<tr>\n",
       "  <th>Df Residuals:</th>          <td>    20</td>      <th>  BIC:               </th>          <td>   26.98</td>\n",
       "</tr>\n",
       "<tr>\n",
       "  <th>Df Model:</th>              <td>     1</td>      <th>                     </th>              <td> </td>   \n",
       "</tr>\n",
       "<tr>\n",
       "  <th>Covariance Type:</th>      <td>nonrobust</td>    <th>                     </th>              <td> </td>   \n",
       "</tr>\n",
       "</table>\n",
       "<table class=\"simpletable\">\n",
       "<tr>\n",
       "        <td></td>          <th>coef</th>     <th>std err</th>      <th>t</th>      <th>P>|t|</th>  <th>[0.025</th>    <th>0.975]</th>  \n",
       "</tr>\n",
       "<tr>\n",
       "  <th>Sorting Time</th> <td>    0.3675</td> <td>    0.014</td> <td>   25.624</td> <td> 0.000</td> <td>    0.338</td> <td>    0.397</td>\n",
       "</tr>\n",
       "</table>\n",
       "<table class=\"simpletable\">\n",
       "<tr>\n",
       "  <th>Omnibus:</th>       <td> 2.935</td> <th>  Durbin-Watson:     </th> <td>   1.485</td>\n",
       "</tr>\n",
       "<tr>\n",
       "  <th>Prob(Omnibus):</th> <td> 0.231</td> <th>  Jarque-Bera (JB):  </th> <td>   1.592</td>\n",
       "</tr>\n",
       "<tr>\n",
       "  <th>Skew:</th>          <td>-0.381</td> <th>  Prob(JB):          </th> <td>   0.451</td>\n",
       "</tr>\n",
       "<tr>\n",
       "  <th>Kurtosis:</th>      <td> 1.887</td> <th>  Cond. No.          </th> <td>    1.00</td>\n",
       "</tr>\n",
       "</table><br/><br/>Notes:<br/>[1] R² is computed without centering (uncentered) since the model does not contain a constant.<br/>[2] Standard Errors assume that the covariance matrix of the errors is correctly specified."
      ],
      "text/plain": [
       "<class 'statsmodels.iolib.summary.Summary'>\n",
       "\"\"\"\n",
       "                                 OLS Regression Results                                \n",
       "=======================================================================================\n",
       "Dep. Variable:           Sorting Time   R-squared (uncentered):                   0.970\n",
       "Model:                            OLS   Adj. R-squared (uncentered):              0.969\n",
       "Method:                 Least Squares   F-statistic:                              656.6\n",
       "Date:                Wed, 05 Jul 2023   Prob (F-statistic):                    9.10e-17\n",
       "Time:                        13:55:41   Log-Likelihood:                         -11.966\n",
       "No. Observations:                  21   AIC:                                      25.93\n",
       "Df Residuals:                      20   BIC:                                      26.98\n",
       "Df Model:                           1                                                  \n",
       "Covariance Type:            nonrobust                                                  \n",
       "================================================================================\n",
       "                   coef    std err          t      P>|t|      [0.025      0.975]\n",
       "--------------------------------------------------------------------------------\n",
       "Sorting Time     0.3675      0.014     25.624      0.000       0.338       0.397\n",
       "==============================================================================\n",
       "Omnibus:                        2.935   Durbin-Watson:                   1.485\n",
       "Prob(Omnibus):                  0.231   Jarque-Bera (JB):                1.592\n",
       "Skew:                          -0.381   Prob(JB):                        0.451\n",
       "Kurtosis:                       1.887   Cond. No.                         1.00\n",
       "==============================================================================\n",
       "\n",
       "Notes:\n",
       "[1] R² is computed without centering (uncentered) since the model does not contain a constant.\n",
       "[2] Standard Errors assume that the covariance matrix of the errors is correctly specified.\n",
       "\"\"\""
      ]
     },
     "execution_count": 36,
     "metadata": {},
     "output_type": "execute_result"
    }
   ],
   "source": [
    "model.summary()"
   ]
  },
  {
   "cell_type": "markdown",
   "id": "d7781601",
   "metadata": {},
   "source": [
    "Square Root Transformation of Y"
   ]
  },
  {
   "cell_type": "code",
   "execution_count": 38,
   "id": "c3c0b5c2",
   "metadata": {},
   "outputs": [],
   "source": [
    "y_sqrt=np.sqrt(roshu['Delivery Time'])"
   ]
  },
  {
   "cell_type": "code",
   "execution_count": 39,
   "id": "619c8d6e",
   "metadata": {},
   "outputs": [],
   "source": [
    "model=sm.OLS(x,y_sqrt).fit()\n",
    "prediction=model.predict(x_sqrt)"
   ]
  },
  {
   "cell_type": "code",
   "execution_count": 40,
   "id": "ca23b512",
   "metadata": {},
   "outputs": [
    {
     "data": {
      "text/html": [
       "<table class=\"simpletable\">\n",
       "<caption>OLS Regression Results</caption>\n",
       "<tr>\n",
       "  <th>Dep. Variable:</th>      <td>Delivery Time</td>  <th>  R-squared (uncentered):</th>      <td>   0.981</td>\n",
       "</tr>\n",
       "<tr>\n",
       "  <th>Model:</th>                   <td>OLS</td>       <th>  Adj. R-squared (uncentered):</th> <td>   0.980</td>\n",
       "</tr>\n",
       "<tr>\n",
       "  <th>Method:</th>             <td>Least Squares</td>  <th>  F-statistic:       </th>          <td>   1028.</td>\n",
       "</tr>\n",
       "<tr>\n",
       "  <th>Date:</th>             <td>Wed, 05 Jul 2023</td> <th>  Prob (F-statistic):</th>          <td>1.14e-18</td>\n",
       "</tr>\n",
       "<tr>\n",
       "  <th>Time:</th>                 <td>13:58:26</td>     <th>  Log-Likelihood:    </th>          <td> -48.347</td>\n",
       "</tr>\n",
       "<tr>\n",
       "  <th>No. Observations:</th>      <td>    21</td>      <th>  AIC:               </th>          <td>   98.69</td>\n",
       "</tr>\n",
       "<tr>\n",
       "  <th>Df Residuals:</th>          <td>    20</td>      <th>  BIC:               </th>          <td>   99.74</td>\n",
       "</tr>\n",
       "<tr>\n",
       "  <th>Df Model:</th>              <td>     1</td>      <th>                     </th>              <td> </td>   \n",
       "</tr>\n",
       "<tr>\n",
       "  <th>Covariance Type:</th>      <td>nonrobust</td>    <th>                     </th>              <td> </td>   \n",
       "</tr>\n",
       "</table>\n",
       "<table class=\"simpletable\">\n",
       "<tr>\n",
       "        <td></td>           <th>coef</th>     <th>std err</th>      <th>t</th>      <th>P>|t|</th>  <th>[0.025</th>    <th>0.975]</th>  \n",
       "</tr>\n",
       "<tr>\n",
       "  <th>Delivery Time</th> <td>    4.2312</td> <td>    0.132</td> <td>   32.055</td> <td> 0.000</td> <td>    3.956</td> <td>    4.507</td>\n",
       "</tr>\n",
       "</table>\n",
       "<table class=\"simpletable\">\n",
       "<tr>\n",
       "  <th>Omnibus:</th>       <td> 4.202</td> <th>  Durbin-Watson:     </th> <td>   1.585</td>\n",
       "</tr>\n",
       "<tr>\n",
       "  <th>Prob(Omnibus):</th> <td> 0.122</td> <th>  Jarque-Bera (JB):  </th> <td>   2.321</td>\n",
       "</tr>\n",
       "<tr>\n",
       "  <th>Skew:</th>          <td> 0.752</td> <th>  Prob(JB):          </th> <td>   0.313</td>\n",
       "</tr>\n",
       "<tr>\n",
       "  <th>Kurtosis:</th>      <td> 3.625</td> <th>  Cond. No.          </th> <td>    1.00</td>\n",
       "</tr>\n",
       "</table><br/><br/>Notes:<br/>[1] R² is computed without centering (uncentered) since the model does not contain a constant.<br/>[2] Standard Errors assume that the covariance matrix of the errors is correctly specified."
      ],
      "text/plain": [
       "<class 'statsmodels.iolib.summary.Summary'>\n",
       "\"\"\"\n",
       "                                 OLS Regression Results                                \n",
       "=======================================================================================\n",
       "Dep. Variable:          Delivery Time   R-squared (uncentered):                   0.981\n",
       "Model:                            OLS   Adj. R-squared (uncentered):              0.980\n",
       "Method:                 Least Squares   F-statistic:                              1028.\n",
       "Date:                Wed, 05 Jul 2023   Prob (F-statistic):                    1.14e-18\n",
       "Time:                        13:58:26   Log-Likelihood:                         -48.347\n",
       "No. Observations:                  21   AIC:                                      98.69\n",
       "Df Residuals:                      20   BIC:                                      99.74\n",
       "Df Model:                           1                                                  \n",
       "Covariance Type:            nonrobust                                                  \n",
       "=================================================================================\n",
       "                    coef    std err          t      P>|t|      [0.025      0.975]\n",
       "---------------------------------------------------------------------------------\n",
       "Delivery Time     4.2312      0.132     32.055      0.000       3.956       4.507\n",
       "==============================================================================\n",
       "Omnibus:                        4.202   Durbin-Watson:                   1.585\n",
       "Prob(Omnibus):                  0.122   Jarque-Bera (JB):                2.321\n",
       "Skew:                           0.752   Prob(JB):                        0.313\n",
       "Kurtosis:                       3.625   Cond. No.                         1.00\n",
       "==============================================================================\n",
       "\n",
       "Notes:\n",
       "[1] R² is computed without centering (uncentered) since the model does not contain a constant.\n",
       "[2] Standard Errors assume that the covariance matrix of the errors is correctly specified.\n",
       "\"\"\""
      ]
     },
     "execution_count": 40,
     "metadata": {},
     "output_type": "execute_result"
    }
   ],
   "source": [
    "model.summary()"
   ]
  },
  {
   "cell_type": "markdown",
   "id": "bcd70d99",
   "metadata": {},
   "source": [
    "Square Root Transformation of X & Y"
   ]
  },
  {
   "cell_type": "code",
   "execution_count": 48,
   "id": "9d3ceecc",
   "metadata": {},
   "outputs": [],
   "source": [
    "model=sm.OLS(x_sqrt,y_sqrt).fit()\n",
    "prediction=model.predict(x_sqrt)"
   ]
  },
  {
   "cell_type": "code",
   "execution_count": 50,
   "id": "b2c5aa18",
   "metadata": {},
   "outputs": [
    {
     "data": {
      "text/html": [
       "<table class=\"simpletable\">\n",
       "<caption>OLS Regression Results</caption>\n",
       "<tr>\n",
       "  <th>Dep. Variable:</th>      <td>Sorting Time</td>   <th>  R-squared (uncentered):</th>      <td>   0.987</td>\n",
       "</tr>\n",
       "<tr>\n",
       "  <th>Model:</th>                   <td>OLS</td>       <th>  Adj. R-squared (uncentered):</th> <td>   0.987</td>\n",
       "</tr>\n",
       "<tr>\n",
       "  <th>Method:</th>             <td>Least Squares</td>  <th>  F-statistic:       </th>          <td>   1542.</td>\n",
       "</tr>\n",
       "<tr>\n",
       "  <th>Date:</th>             <td>Wed, 05 Jul 2023</td> <th>  Prob (F-statistic):</th>          <td>2.10e-20</td>\n",
       "</tr>\n",
       "<tr>\n",
       "  <th>Time:</th>                 <td>14:06:17</td>     <th>  Log-Likelihood:    </th>          <td> -3.1813</td>\n",
       "</tr>\n",
       "<tr>\n",
       "  <th>No. Observations:</th>      <td>    21</td>      <th>  AIC:               </th>          <td>   8.363</td>\n",
       "</tr>\n",
       "<tr>\n",
       "  <th>Df Residuals:</th>          <td>    20</td>      <th>  BIC:               </th>          <td>   9.407</td>\n",
       "</tr>\n",
       "<tr>\n",
       "  <th>Df Model:</th>              <td>     1</td>      <th>                     </th>              <td> </td>   \n",
       "</tr>\n",
       "<tr>\n",
       "  <th>Covariance Type:</th>      <td>nonrobust</td>    <th>                     </th>              <td> </td>   \n",
       "</tr>\n",
       "</table>\n",
       "<table class=\"simpletable\">\n",
       "<tr>\n",
       "        <td></td>           <th>coef</th>     <th>std err</th>      <th>t</th>      <th>P>|t|</th>  <th>[0.025</th>    <th>0.975]</th>  \n",
       "</tr>\n",
       "<tr>\n",
       "  <th>Delivery Time</th> <td>    0.6033</td> <td>    0.015</td> <td>   39.267</td> <td> 0.000</td> <td>    0.571</td> <td>    0.635</td>\n",
       "</tr>\n",
       "</table>\n",
       "<table class=\"simpletable\">\n",
       "<tr>\n",
       "  <th>Omnibus:</th>       <td> 0.178</td> <th>  Durbin-Watson:     </th> <td>   1.503</td>\n",
       "</tr>\n",
       "<tr>\n",
       "  <th>Prob(Omnibus):</th> <td> 0.915</td> <th>  Jarque-Bera (JB):  </th> <td>   0.257</td>\n",
       "</tr>\n",
       "<tr>\n",
       "  <th>Skew:</th>          <td> 0.184</td> <th>  Prob(JB):          </th> <td>   0.880</td>\n",
       "</tr>\n",
       "<tr>\n",
       "  <th>Kurtosis:</th>      <td> 2.602</td> <th>  Cond. No.          </th> <td>    1.00</td>\n",
       "</tr>\n",
       "</table><br/><br/>Notes:<br/>[1] R² is computed without centering (uncentered) since the model does not contain a constant.<br/>[2] Standard Errors assume that the covariance matrix of the errors is correctly specified."
      ],
      "text/plain": [
       "<class 'statsmodels.iolib.summary.Summary'>\n",
       "\"\"\"\n",
       "                                 OLS Regression Results                                \n",
       "=======================================================================================\n",
       "Dep. Variable:           Sorting Time   R-squared (uncentered):                   0.987\n",
       "Model:                            OLS   Adj. R-squared (uncentered):              0.987\n",
       "Method:                 Least Squares   F-statistic:                              1542.\n",
       "Date:                Wed, 05 Jul 2023   Prob (F-statistic):                    2.10e-20\n",
       "Time:                        14:06:17   Log-Likelihood:                         -3.1813\n",
       "No. Observations:                  21   AIC:                                      8.363\n",
       "Df Residuals:                      20   BIC:                                      9.407\n",
       "Df Model:                           1                                                  \n",
       "Covariance Type:            nonrobust                                                  \n",
       "=================================================================================\n",
       "                    coef    std err          t      P>|t|      [0.025      0.975]\n",
       "---------------------------------------------------------------------------------\n",
       "Delivery Time     0.6033      0.015     39.267      0.000       0.571       0.635\n",
       "==============================================================================\n",
       "Omnibus:                        0.178   Durbin-Watson:                   1.503\n",
       "Prob(Omnibus):                  0.915   Jarque-Bera (JB):                0.257\n",
       "Skew:                           0.184   Prob(JB):                        0.880\n",
       "Kurtosis:                       2.602   Cond. No.                         1.00\n",
       "==============================================================================\n",
       "\n",
       "Notes:\n",
       "[1] R² is computed without centering (uncentered) since the model does not contain a constant.\n",
       "[2] Standard Errors assume that the covariance matrix of the errors is correctly specified.\n",
       "\"\"\""
      ]
     },
     "execution_count": 50,
     "metadata": {},
     "output_type": "execute_result"
    }
   ],
   "source": [
    "model.summary()"
   ]
  },
  {
   "cell_type": "markdown",
   "id": "f56d354b",
   "metadata": {},
   "source": [
    "Output Interpretation"
   ]
  },
  {
   "cell_type": "markdown",
   "id": "171395d2",
   "metadata": {},
   "source": [
    "We will use Model 7 as it has the best R square value\n",
    "\n",
    "1 - p-value < 0.01\n",
    "Thus the model is accepted\n",
    "\n",
    "2 - coefficient == 1.64\n",
    "Thus if the value of Sorting Time is increased by 1, the predicted value of Delivery Time will increase by 1.64\n",
    "\n",
    "3 - Adj. R-sqared == 0.987\n",
    "Thus the model explains 98.7% of the variance in dependent variable"
   ]
  },
  {
   "cell_type": "code",
   "execution_count": null,
   "id": "19462174",
   "metadata": {},
   "outputs": [],
   "source": []
  }
 ],
 "metadata": {
  "kernelspec": {
   "display_name": "Python 3 (ipykernel)",
   "language": "python",
   "name": "python3"
  },
  "language_info": {
   "codemirror_mode": {
    "name": "ipython",
    "version": 3
   },
   "file_extension": ".py",
   "mimetype": "text/x-python",
   "name": "python",
   "nbconvert_exporter": "python",
   "pygments_lexer": "ipython3",
   "version": "3.10.9"
  }
 },
 "nbformat": 4,
 "nbformat_minor": 5
}
